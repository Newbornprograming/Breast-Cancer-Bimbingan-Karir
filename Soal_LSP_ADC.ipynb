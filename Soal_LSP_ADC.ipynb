{
  "nbformat": 4,
  "nbformat_minor": 0,
  "metadata": {
    "colab": {
      "provenance": []
    },
    "kernelspec": {
      "name": "python3",
      "display_name": "Python 3"
    },
    "language_info": {
      "name": "python"
    }
  },
  "cells": [
    {
      "cell_type": "markdown",
      "source": [
        "### Daftar Isi\n",
        "* [1) Mengumpulkan Data](#h1)\n",
        "* [2) Menelaah Data](#h2)\n",
        "* [3) Memvalidasi Data](#h3)\n",
        "* [4) Menetukan Object Data](#h4)\n",
        "* [5) Membersihkan Data](#h5)\n",
        "* [6) Mengkonstruksi Data](#h6)\n",
        "* [7) Menentukan Label Data](#h7)\n",
        "* [8) Membangun Model](#h8)\n",
        "* [9) Mengevaluasi Hasil Pemodelan](#h9)\n",
        "* [10) Optimasi Model Klasifikasi](#h10)\n"
      ],
      "metadata": {
        "id": "dyRA727BejDK"
      }
    },
    {
      "cell_type": "markdown",
      "source": [
        "## 1) Mengumpulkan Data <a class=\"anchor\" id=\"h1\"></a>"
      ],
      "metadata": {
        "id": "-hJItCj9eah6"
      }
    },
    {
      "cell_type": "code",
      "execution_count": null,
      "metadata": {
        "id": "GYqramJ0JmD2"
      },
      "outputs": [],
      "source": [
        "# Load library yang diperlukan\n",
        "import <fix_me> as pd"
      ]
    },
    {
      "cell_type": "code",
      "source": [
        "# Load data menjadi data frame\n",
        "dataset = pd.read_csv('<fix_me>', header=None)"
      ],
      "metadata": {
        "id": "1GGB_j_0JpSV"
      },
      "execution_count": null,
      "outputs": []
    },
    {
      "cell_type": "code",
      "source": [
        "# menampilkan data\n",
        "dataset"
      ],
      "metadata": {
        "id": "whqbWiI7LJQN"
      },
      "execution_count": null,
      "outputs": []
    },
    {
      "cell_type": "code",
      "source": [
        "# Memasukkan nama fitur kedalam dataset\n",
        "dataset.columns=[<fix_me>]"
      ],
      "metadata": {
        "id": "-t19Z14gKbw-"
      },
      "execution_count": null,
      "outputs": []
    },
    {
      "cell_type": "code",
      "source": [
        "# Lakukan pengecekan apakah dataset sudah benar dengan menampilkan 5 data teratas\n",
        "dataset.<fix_me>()"
      ],
      "metadata": {
        "id": "eGAahUlRLjjj"
      },
      "execution_count": null,
      "outputs": []
    },
    {
      "cell_type": "markdown",
      "source": [
        "## 2) Menelaah Data <a class=\"anchor\" id=\"h2\"></a>"
      ],
      "metadata": {
        "id": "j0MGtkL8fo7l"
      }
    },
    {
      "cell_type": "code",
      "source": [
        "# Menampilkan informasi dari file dataset\n",
        "dataset.<fix_me>()"
      ],
      "metadata": {
        "id": "ji1FROwMhE6F"
      },
      "execution_count": null,
      "outputs": []
    },
    {
      "cell_type": "code",
      "source": [
        "# Menampilkan deskripsi dari file dataset\n",
        "dataset.<fix_me>()"
      ],
      "metadata": {
        "id": "Pxd-mJi5hFFm"
      },
      "execution_count": null,
      "outputs": []
    },
    {
      "cell_type": "code",
      "source": [
        "import seaborn as sns\n",
        "import matplotlib.pyplot as plt"
      ],
      "metadata": {
        "id": "cySMcW0fhFav"
      },
      "execution_count": null,
      "outputs": []
    },
    {
      "cell_type": "code",
      "source": [
        "# dibawah adalah contoh kode program untuk fitur 1\n",
        "sns.set(font_scale=1.0)\n",
        "dataset['Sample_code_number'].value_counts().plot(kind='bar', figsize=(7, 6), rot=0)\n",
        "plt.xlabel(\"Sample_code_number\", labelpad=14)\n",
        "plt.ylabel(\"Jumlah\", labelpad=14)\n",
        "plt.title(\"Distribusi Sample_code_number\", y=1.02);"
      ],
      "metadata": {
        "id": "AsphAmudhdUS"
      },
      "execution_count": null,
      "outputs": []
    },
    {
      "cell_type": "markdown",
      "source": [
        "### Isi Koding 1"
      ],
      "metadata": {
        "id": "jtAyHXb49ZSl"
      }
    },
    {
      "cell_type": "code",
      "source": [
        "# tuliskan kode program untuk Menampilkan distribusi kelas dari semua fitur\n",
        "<fix_me>"
      ],
      "metadata": {
        "id": "W4VvOLXQSwPj"
      },
      "execution_count": null,
      "outputs": []
    },
    {
      "cell_type": "markdown",
      "source": [
        "## 3) Memvalidasi Data <a class=\"anchor\" id=\"h3\"></a>"
      ],
      "metadata": {
        "id": "fQj8xFobgKiR"
      }
    },
    {
      "cell_type": "markdown",
      "source": [
        "Dalam aktivitas ini, Anda harus dapat melakukan pengecekan atas data yang Anda gunakan apakah terdapat missing value, noisy data, atau data yang tidak sesuai lainnya"
      ],
      "metadata": {
        "id": "zzxd6p8z73bT"
      }
    },
    {
      "cell_type": "markdown",
      "source": [
        "###Essay 1\n",
        "Deskripsikan Temuan Anda disini:"
      ],
      "metadata": {
        "id": "7aPxo2GIiA3W"
      }
    },
    {
      "cell_type": "markdown",
      "source": [
        "## 4) Menentukan Objek Data <a class=\"anchor\" id=\"h4\"></a>"
      ],
      "metadata": {
        "id": "wQlAuK12gTC4"
      }
    },
    {
      "cell_type": "code",
      "source": [
        "import numpy as np"
      ],
      "metadata": {
        "id": "sRgJ6YfSlNg7"
      },
      "execution_count": null,
      "outputs": []
    },
    {
      "cell_type": "code",
      "source": [
        "#menghapus fitur yang tidak dapat digunakan\n",
        "columns_to_drop = ['<fix_me>']\n",
        "dataset = dataset.drop(columns_to_drop, axis=1)"
      ],
      "metadata": {
        "id": "iErX-5_6jaND"
      },
      "execution_count": null,
      "outputs": []
    },
    {
      "cell_type": "code",
      "source": [
        "#menggantikan nilai yang salah pada data\n",
        "dataset.replace(\"<fix_me>\", np.nan, inplace= True)"
      ],
      "metadata": {
        "id": "JiuAZXtxlEyX"
      },
      "execution_count": null,
      "outputs": []
    },
    {
      "cell_type": "code",
      "source": [
        "dataset.info()"
      ],
      "metadata": {
        "id": "oQZf44DmjvbN"
      },
      "execution_count": null,
      "outputs": []
    },
    {
      "cell_type": "markdown",
      "source": [
        "###Essay 2\n",
        "Deskripsikan Temuan Anda disini:"
      ],
      "metadata": {
        "id": "W3Do3oCU8Lnp"
      }
    },
    {
      "cell_type": "markdown",
      "source": [
        "## 5) Membersihkan Data <a class=\"anchor\" id=\"h5\"></a>"
      ],
      "metadata": {
        "id": "CsEN5ZczgTjL"
      }
    },
    {
      "cell_type": "code",
      "source": [
        "# menghitung nilai Null pada dataset\n",
        "dataset.isnull().sum()"
      ],
      "metadata": {
        "id": "pKhib6E0iOxb"
      },
      "execution_count": null,
      "outputs": []
    },
    {
      "cell_type": "code",
      "source": [
        "# mendeteksi keberadaan nilai Null\n",
        "dataset.loc[:, dataset.isnull().any()].columns"
      ],
      "metadata": {
        "colab": {
          "base_uri": "https://localhost:8080/"
        },
        "id": "VMry8X3xit9I",
        "outputId": "f41f2948-6ac1-434d-b232-e69bf13092fd"
      },
      "execution_count": null,
      "outputs": [
        {
          "output_type": "execute_result",
          "data": {
            "text/plain": [
              "Index(['Bare_nuclei'], dtype='object')"
            ]
          },
          "metadata": {},
          "execution_count": 26
        }
      ]
    },
    {
      "cell_type": "code",
      "source": [
        "# Mengubah Type data dari salah satu fitur\n",
        "dataset['<fix_me>'] = dataset['<fix_me>'].astype(str).astype(<fix_me>)"
      ],
      "metadata": {
        "id": "6RmJ550_iyxb"
      },
      "execution_count": null,
      "outputs": []
    },
    {
      "cell_type": "code",
      "source": [
        "# Menampilkan Informasi dari data\n",
        "dataset.info()"
      ],
      "metadata": {
        "id": "b7hLFQsImK8v"
      },
      "execution_count": null,
      "outputs": []
    },
    {
      "cell_type": "code",
      "source": [
        "import missingno"
      ],
      "metadata": {
        "id": "XILNt56Fme9X"
      },
      "execution_count": null,
      "outputs": []
    },
    {
      "cell_type": "code",
      "source": [
        "# Memvisualisasikan keberadaan nilai Null\n",
        "missingdata_df = dataset.columns[dataset.isnull().any()].tolist()\n",
        "missingno.matrix(dataset[missingdata_df])"
      ],
      "metadata": {
        "id": "sdduwBoimX16"
      },
      "execution_count": null,
      "outputs": []
    },
    {
      "cell_type": "code",
      "source": [
        "# hapus fitur jika fitur yang hilang lebih dari 50%\n",
        "# dataset.drop(['fitur'], axis=\"columns\", inplace=True),\n",
        "\n",
        "#jika tidak maka\n",
        "# median_value=dataset['fitur'].median()\n",
        "# dataset['fitur'] =dataset['fitur'].fillna(median_value))"
      ],
      "metadata": {
        "id": "7Ko658UPm3Sh"
      },
      "execution_count": null,
      "outputs": []
    },
    {
      "cell_type": "markdown",
      "source": [
        "### Isi Koding 2"
      ],
      "metadata": {
        "id": "mQpv1fk69UPP"
      }
    },
    {
      "cell_type": "code",
      "source": [
        "# diiskan jawaban masing-masing\n",
        "<fix_me>"
      ],
      "metadata": {
        "id": "nv17qYkmm4sP"
      },
      "execution_count": null,
      "outputs": []
    },
    {
      "cell_type": "code",
      "source": [
        "dataset.isnull().sum()"
      ],
      "metadata": {
        "id": "7-7ttEbsnrcw"
      },
      "execution_count": null,
      "outputs": []
    },
    {
      "cell_type": "code",
      "source": [
        "# Menampilkan data duplikat\n",
        "duplicate_rows = dataset.duplicated()\n",
        "print(\"All Duplicate Rows:\")\n",
        "dataset[dataset.duplicated(keep=False)]"
      ],
      "metadata": {
        "id": "zHac-TQNpFxX"
      },
      "execution_count": null,
      "outputs": []
    },
    {
      "cell_type": "code",
      "source": [
        "# Menghapus data duplikat, menyimpan data dalam variabel baru \"dataClean\"\n",
        "dataClean = dataset.<fix_me>()\n",
        "print(\"All Duplicate Rows:\")\n",
        "dataClean[dataClean.duplicated(keep=<fix_me>)]"
      ],
      "metadata": {
        "id": "CuX6n4iwpF4O"
      },
      "execution_count": null,
      "outputs": []
    },
    {
      "cell_type": "code",
      "source": [
        "dataset.info()"
      ],
      "metadata": {
        "id": "yOBAXa1zrzpz"
      },
      "execution_count": null,
      "outputs": []
    },
    {
      "cell_type": "code",
      "source": [
        "dataClean.info()"
      ],
      "metadata": {
        "id": "rj9mWcaFpF7M"
      },
      "execution_count": null,
      "outputs": []
    },
    {
      "cell_type": "markdown",
      "source": [
        "Temuan:"
      ],
      "metadata": {
        "id": "J9F9T1KFqdLi"
      }
    },
    {
      "cell_type": "markdown",
      "source": [
        "## 6) Menkonstruksi Data <a class=\"anchor\" id=\"h2\"></a>"
      ],
      "metadata": {
        "id": "DgNuzCAlgTRa"
      }
    },
    {
      "cell_type": "code",
      "source": [
        "# Menampilkan distribusi kelas dari target\n",
        "print(dataClean['<fix_me>'].value_counts())\n",
        "sns.set(font_scale=1.0)\n",
        "dataClean['<fix_me>'].value_counts().plot(kind='bar', figsize=(7, 6), rot=0)\n",
        "plt.xlabel(\"Status Pasien kanker payudara\", labelpad=14)\n",
        "plt.ylabel(\"Jumlah\", labelpad=14)\n",
        "plt.title(\"Status Pasien kanker payudara\", y=1.02);"
      ],
      "metadata": {
        "id": "MLP25d-XpGBS"
      },
      "execution_count": null,
      "outputs": []
    },
    {
      "cell_type": "code",
      "source": [
        "# Menampilkan Korelasi antar Fitur\n",
        "correlation = <fix_me>.corr()\n",
        "plt.subplots(figsize = (12,12))\n",
        "sns.heatmap(correlation.round(2),\n",
        "            annot = True,\n",
        "            vmax = 1,\n",
        "            square = True,\n",
        "            cmap = 'RdYlGn_r')\n",
        "plt.show()"
      ],
      "metadata": {
        "id": "W-ZiYFtapF-F"
      },
      "execution_count": null,
      "outputs": []
    },
    {
      "cell_type": "code",
      "source": [
        "# Menampilkan Boxplot untuk melihat adanya Outlayer\n",
        "<fix_me>.plot(kind='box',subplots=True,layout=(5,6), sharex=False,figsize = (20,20),\n",
        "                           title='figure 1: Data distributions of all features')\n",
        "plt.show()"
      ],
      "metadata": {
        "id": "G1adgjTss807"
      },
      "execution_count": null,
      "outputs": []
    },
    {
      "cell_type": "code",
      "source": [
        "#menampilkan deskripsi data yang sudah dibersihkan\n",
        "dataClean.describe()"
      ],
      "metadata": {
        "id": "-bxYIkp3s86n"
      },
      "execution_count": null,
      "outputs": []
    },
    {
      "cell_type": "code",
      "source": [
        "dataClean.info()"
      ],
      "metadata": {
        "id": "75xl_xOPvAlA"
      },
      "execution_count": null,
      "outputs": []
    },
    {
      "cell_type": "code",
      "source": [
        "dataClean"
      ],
      "metadata": {
        "id": "fx_up8CAvWvK"
      },
      "execution_count": null,
      "outputs": []
    },
    {
      "cell_type": "markdown",
      "source": [
        "###Essay 3\n",
        "Deskripsikan Temuan Anda disini"
      ],
      "metadata": {
        "id": "ZN2dsNIlKpUG"
      }
    },
    {
      "cell_type": "markdown",
      "source": [
        "## 7) Menentukan Label Data <a class=\"anchor\" id=\"h7\"></a>"
      ],
      "metadata": {
        "id": "XqfO1V9qgTwu"
      }
    },
    {
      "cell_type": "code",
      "source": [
        "from sklearn.model_selection import train_test_split"
      ],
      "metadata": {
        "id": "lCpDIzn_s9B9"
      },
      "execution_count": null,
      "outputs": []
    },
    {
      "cell_type": "code",
      "source": [
        "X_norm= dataClean.drop(\"<fix_me>\",axis=1).values\n",
        "y = dataClean['<fix_me>']"
      ],
      "metadata": {
        "id": "yIaWs40Ys9IN"
      },
      "execution_count": null,
      "outputs": []
    },
    {
      "cell_type": "code",
      "source": [
        "# perbandingan data training dan data testing adalah 70 : 30\n",
        "X_train, X_test, y_train, y_test = train_test_split(X_norm, y, test_size=<fix_me>, random_state=42)"
      ],
      "metadata": {
        "id": "VAAjs9teL3s_"
      },
      "execution_count": null,
      "outputs": []
    },
    {
      "cell_type": "markdown",
      "source": [
        "## 8) Membangun Model <a class=\"anchor\" id=\"h8\"></a>"
      ],
      "metadata": {
        "id": "27FXrfwZgT6T"
      }
    },
    {
      "cell_type": "code",
      "source": [
        "# import library pemodelan yang digunakan\n",
        "from <fix_me>\n",
        "\n",
        "import matplotlib.pyplot as plt"
      ],
      "metadata": {
        "id": "cxBiPnuYMsfN"
      },
      "execution_count": null,
      "outputs": []
    },
    {
      "cell_type": "code",
      "source": [
        "clean_classifier_nb = <fix_me>()\n",
        "clean_classifier_nb .fit(X_train, y_train)"
      ],
      "metadata": {
        "id": "8EpNWcz4A5PM"
      },
      "execution_count": null,
      "outputs": []
    },
    {
      "cell_type": "code",
      "source": [
        "clean_classifier_dt = <fix_me>(random_state=42)\n",
        "clean_classifier_dt .fit(X_train, y_train)"
      ],
      "metadata": {
        "id": "PhXJx8K8_5V0"
      },
      "execution_count": null,
      "outputs": []
    },
    {
      "cell_type": "code",
      "source": [
        "clean_classifier_rf = <fix_me>(n_estimators=100, random_state=42)\n",
        "clean_classifier_rf .fit(X_train, y_train)"
      ],
      "metadata": {
        "id": "o4bA_mPVUwTZ"
      },
      "execution_count": null,
      "outputs": []
    },
    {
      "cell_type": "markdown",
      "source": [
        "## 9) Mengevaluasi Hasil Pemodelan <a class=\"anchor\" id=\"h9\"></a>"
      ],
      "metadata": {
        "id": "AEi7C8MQg5VV"
      }
    },
    {
      "cell_type": "code",
      "source": [
        "from sklearn.metrics import classification_report\n",
        "from sklearn.metrics import accuracy_score,recall_score,f1_score,precision_score,roc_auc_score,confusion_matrix,precision_score"
      ],
      "metadata": {
        "id": "QKnkdqRKUxGb"
      },
      "execution_count": null,
      "outputs": []
    },
    {
      "cell_type": "code",
      "source": [
        "def evaluation(Y_test,Y_pred):\n",
        "    acc = accuracy_score(Y_test,Y_pred)\n",
        "    rcl = recall_score(Y_test,Y_pred,average = 'weighted')\n",
        "    f1 = f1_score(Y_test,Y_pred,average = 'weighted')\n",
        "    ps = precision_score(Y_test,Y_pred,average = 'weighted')\n",
        "\n",
        "    metric_dict={'accuracy': round(acc,3),\n",
        "               'recall': round(rcl,3),\n",
        "               'F1 score': round(f1,3),\n",
        "               'Precision score': round(ps,3)\n",
        "              }\n",
        "\n",
        "    return print(metric_dict)"
      ],
      "metadata": {
        "id": "_yFyriefE_Ij"
      },
      "execution_count": null,
      "outputs": []
    },
    {
      "cell_type": "code",
      "source": [
        "y_pred_nb = clean_classifier_nb.predict(X_test)\n",
        "\n",
        "# Evaluate the Naive Bayes model\n",
        "print(\"\\nNaive Bayes Model:\")\n",
        "<fix_me> = round(accuracy_score(y_test, y_pred_nb),3)\n",
        "print(\"Accuracy:\",accuracy_nb)\n",
        "print(\"Classification Report:\")\n",
        "print(classification_report(y_test, y_pred_nb))"
      ],
      "metadata": {
        "id": "Y0-a5HclBM8z"
      },
      "execution_count": null,
      "outputs": []
    },
    {
      "cell_type": "code",
      "source": [
        "evaluation(y_test,<fix_me>)"
      ],
      "metadata": {
        "id": "EMnFZduREiH6"
      },
      "execution_count": null,
      "outputs": []
    },
    {
      "cell_type": "code",
      "source": [
        "y_pred_dt = clean_classifier_dt.predict(X_test)\n",
        "\n",
        "# Evaluate the Decission Tree model\n",
        "print(\"\\nDecission Tree Model:\")\n",
        "<fix_me> = round(accuracy_score(y_test, y_pred_dt),3)\n",
        "print(\"Accuracy:\",accuracy_dt)\n",
        "print(\"Classification Report:\")\n",
        "print(classification_report(y_test, y_pred_dt))"
      ],
      "metadata": {
        "id": "S2iisSTEAUMY"
      },
      "execution_count": null,
      "outputs": []
    },
    {
      "cell_type": "code",
      "source": [
        "evaluation(y_test,<fix_me>)"
      ],
      "metadata": {
        "id": "JJgOXd4REfPG"
      },
      "execution_count": null,
      "outputs": []
    },
    {
      "cell_type": "code",
      "source": [
        "y_pred_rf = clean_classifier_rf.predict(X_test)\n",
        "\n",
        "# Evaluate the Random Forest model\n",
        "print(\"\\nRandom Forest Model:\")\n",
        "<fix_me> = round(accuracy_score(y_test, y_pred_rf),3)\n",
        "print(\"Accuracy:\",accuracy_rf)\n",
        "print(\"Classification Report:\")\n",
        "print(classification_report(y_test, y_pred_rf))"
      ],
      "metadata": {
        "id": "i_vkIvnHyFcE"
      },
      "execution_count": null,
      "outputs": []
    },
    {
      "cell_type": "code",
      "source": [
        "evaluation(y_test,<fix_me>)"
      ],
      "metadata": {
        "id": "YSUwAB2gUxm8"
      },
      "execution_count": null,
      "outputs": []
    },
    {
      "cell_type": "code",
      "source": [
        "model_comp = pd.DataFrame({'Model': ['Naive Bayes','Decision Tree','Random Forest'], 'Accuracy': [<fix_me>*100,\n",
        "                    <fix_me>*100,<fix_me>*100]})\n",
        "\n",
        "# Membuat bar plot dengan keterangan jumlah\n",
        "fig, ax = plt.subplots()\n",
        "bars = plt.bar(model_comp['Model'], model_comp['Accuracy'], color=['red', 'green', 'blue'])\n",
        "plt.xlabel('Model')\n",
        "plt.ylabel('Accuracy (%)')\n",
        "plt.title('Clean Data')\n",
        "plt.xticks(rotation=45, ha='right')  # Untuk memutar label sumbu x agar lebih mudah dibaca\n",
        "\n",
        "# Menambahkan keterangan jumlah di atas setiap bar\n",
        "for bar in bars:\n",
        "    yval = bar.get_height()\n",
        "    plt.text(bar.get_x() + bar.get_width()/2, yval, round(yval, 2), ha='center', va='bottom')\n",
        "\n",
        "plt.show()"
      ],
      "metadata": {
        "id": "AdD14hcXBu6V"
      },
      "execution_count": null,
      "outputs": []
    },
    {
      "cell_type": "markdown",
      "source": [
        "###Essay 4\n",
        "Deskripsikan Temuan Anda disini"
      ],
      "metadata": {
        "id": "TLanbnXAisfK"
      }
    },
    {
      "cell_type": "markdown",
      "source": [
        "## 10) Optimasi Model Klasifikasi <a class=\"anchor\" id=\"h10\"></a>"
      ],
      "metadata": {
        "id": "LJHRgiKCiEBK"
      }
    },
    {
      "cell_type": "code",
      "source": [
        "#nilai confusion matrix untuk model dengan akurasi tertinggi\n",
        "\n",
        "cm = confusion_matrix(y_test, <fix_me>)\n",
        "\n",
        "plt.figure(figsize=(8, 6))\n",
        "sns.heatmap(cm, annot=True, fmt=\"d\", cmap=\"Blues\")\n",
        "plt.title('Confusion Matrix')\n",
        "plt.xlabel('True')\n",
        "plt.ylabel('Predict')\n",
        "plt.show()"
      ],
      "metadata": {
        "id": "V7TSlh4mC59m"
      },
      "execution_count": null,
      "outputs": []
    },
    {
      "cell_type": "code",
      "source": [
        "columns_to_drop = ['fix_me', 'fix_me']\n",
        "X_selected= dataClean.drop(columns_to_drop, axis=1).values\n",
        "y = dataClean['fix_me']"
      ],
      "metadata": {
        "id": "O4W96KlYiRY7"
      },
      "execution_count": null,
      "outputs": []
    },
    {
      "cell_type": "code",
      "source": [
        "X_train_selected, X_test_selected, y_train_selected, y_test_selected = train_test_split(X_selected, y, test_size=fix_me, random_state=42)"
      ],
      "metadata": {
        "id": "coQdn2eJic2T"
      },
      "execution_count": null,
      "outputs": []
    },
    {
      "cell_type": "code",
      "source": [
        "selected_classifier_nb = <fix_me>()\n",
        "selected_classifier_nb.fit(X_train_selected, y_train_selected)"
      ],
      "metadata": {
        "id": "86spPQNUihko"
      },
      "execution_count": null,
      "outputs": []
    },
    {
      "cell_type": "code",
      "source": [
        "y_pred_nb_selected = selected_classifier_nb.predict(X_test_selected)\n",
        "\n",
        "# Evaluate the optimize model\n",
        "print(\"\\n<fix_me> Model:\")\n",
        "<fix_me> = round(accuracy_score(y_test_selected, y_pred_nb_selected),3)\n",
        "print(\"Accuracy:\",accuracy_nb_selected)\n",
        "print(\"Classification Report:\")\n",
        "print(classification_report(y_test_selected, y_pred_nb_selected))"
      ],
      "metadata": {
        "id": "U2MuAvzEVDAw"
      },
      "execution_count": null,
      "outputs": []
    },
    {
      "cell_type": "code",
      "source": [
        "evaluation(y_test_selected,y_pred_nb_selected)"
      ],
      "metadata": {
        "id": "jhgRKWYxURc5"
      },
      "execution_count": null,
      "outputs": []
    },
    {
      "cell_type": "code",
      "source": [
        "cm = confusion_matrix(y_test, y_pred_nb_selected)\n",
        "\n",
        "plt.figure(figsize=(8, 6))\n",
        "sns.heatmap(cm, annot=True, fmt=\"d\", cmap=\"Blues\")\n",
        "plt.title('Confusion Matrix')\n",
        "plt.xlabel('True')\n",
        "plt.ylabel('Predict')\n",
        "plt.show()"
      ],
      "metadata": {
        "id": "yI0S9QUL25Ay"
      },
      "execution_count": null,
      "outputs": []
    },
    {
      "cell_type": "code",
      "source": [
        "model_comp = pd.DataFrame({'Model': ['Sebelum optimasi','setelah Optimasi'], 'Accuracy': [<fix_me>*100,\n",
        "                    <fix_me>*100]})\n",
        "\n",
        "# Membuat bar plot dengan keterangan jumlah\n",
        "fig, ax = plt.subplots()\n",
        "bars = plt.bar(model_comp['Model'], model_comp['Accuracy'], color=['red', 'blue'])\n",
        "plt.xlabel('Model')\n",
        "plt.ylabel('Accuracy (%)')\n",
        "plt.title('Optimal Data')\n",
        "plt.xticks(rotation=45, ha='right')  # Untuk memutar label sumbu x agar lebih mudah dibaca\n",
        "\n",
        "# Menambahkan keterangan jumlah di atas setiap bar\n",
        "for bar in bars:\n",
        "    yval = bar.get_height()\n",
        "    plt.text(bar.get_x() + bar.get_width()/2, yval, round(yval, 2), ha='center', va='bottom')\n",
        "\n",
        "plt.show()"
      ],
      "metadata": {
        "id": "LzLJZpc3FUup"
      },
      "execution_count": null,
      "outputs": []
    },
    {
      "cell_type": "markdown",
      "source": [
        "###Essay 5\n",
        "Deskripsikan Temuan Anda disini"
      ],
      "metadata": {
        "id": "N_l-ybOijhSm"
      }
    }
  ]
}